{
 "cells": [
  {
   "cell_type": "code",
   "execution_count": 1,
   "metadata": {},
   "outputs": [
    {
     "name": "stdout",
     "output_type": "stream",
     "text": [
      "2  ->  ['4', '1', '0']\n",
      "0  ->  ['1', '2']\n",
      "4  ->  ['3', '2', '5']\n",
      "5  ->  ['4', '6']\n",
      "3  ->  ['1', '4']\n",
      "6  ->  ['5']\n",
      "1  ->  ['3', '2', '0']\n"
     ]
    }
   ],
   "source": [
    "class Graph() :\n",
    "    def __init__(self): \n",
    "        self.numberOfNodes = 0;\n",
    "        self.adjacentList =dict()\n",
    "        \n",
    "    \n",
    "    def addVertex(self,node):\n",
    "        self.adjacentList[node] = list()\n",
    "        self.numberOfNodes +=1\n",
    "        return self.adjacentList\n",
    "        \n",
    "    # undirected Graph\n",
    "    def addEdge(self,node1,node2):\n",
    "        self.adjacentList[node1].append(node2)\n",
    "        self.adjacentList[node2].append(node1)\n",
    "        return self.adjacentList\n",
    "    \n",
    "    def connection(self):\n",
    "        for key in self.adjacentList.keys():\n",
    "            print(key,' -> ',self.adjacentList[key])\n",
    "\n",
    "myGraph = Graph()\n",
    "myGraph.addVertex('0')\n",
    "myGraph.addVertex('1')\n",
    "myGraph.addVertex('2')\n",
    "myGraph.addVertex('3')\n",
    "myGraph.addVertex('4')\n",
    "myGraph.addVertex('5')\n",
    "myGraph.addVertex('6')\n",
    "myGraph.addEdge('3', '1'); \n",
    "myGraph.addEdge('3', '4'); \n",
    "myGraph.addEdge('4', '2'); \n",
    "myGraph.addEdge('4', '5'); \n",
    "myGraph.addEdge('1', '2'); \n",
    "myGraph.addEdge('1', '0'); \n",
    "myGraph.addEdge('0', '2'); \n",
    "myGraph.addEdge('6', '5');\n",
    "myGraph.connection()\n"
   ]
  },
  {
   "cell_type": "code",
   "execution_count": null,
   "metadata": {},
   "outputs": [],
   "source": []
  }
 ],
 "metadata": {
  "kernelspec": {
   "display_name": "Python 3",
   "language": "python",
   "name": "python3"
  },
  "language_info": {
   "codemirror_mode": {
    "name": "ipython",
    "version": 3
   },
   "file_extension": ".py",
   "mimetype": "text/x-python",
   "name": "python",
   "nbconvert_exporter": "python",
   "pygments_lexer": "ipython3",
   "version": "3.7.4"
  }
 },
 "nbformat": 4,
 "nbformat_minor": 2
}
